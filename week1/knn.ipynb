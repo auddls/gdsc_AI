{
 "cells": [
  {
   "cell_type": "markdown",
   "id": "92445c44",
   "metadata": {},
   "source": [
    "# **GDG 인공지능 기초 1주차 과제**"
   ]
  },
  {
   "cell_type": "markdown",
   "id": "bfa6f75c",
   "metadata": {},
   "source": [
    "## **<span style=\"color:green\"> [ 실습 ] </span> KNN**\n",
    "수업 때 했던 KNN 내용을 떠올리며 실습을 진행해봅시다!"
   ]
  },
  {
   "cell_type": "markdown",
   "id": "e259302b",
   "metadata": {},
   "source": [
    "**<span style=\"color:red\"> 1. </span>** 우선 실습에 필요한 모듈을 다운 받아줍니다."
   ]
  },
  {
   "cell_type": "code",
   "execution_count": null,
   "id": "a6c00d93",
   "metadata": {
    "colab": {
     "base_uri": "https://localhost:8080/"
    },
    "id": "a6c00d93",
    "outputId": "c6065ddd-7552-419d-e391-7cbf0eba81b0"
   },
   "outputs": [],
   "source": [
    "%pip install torch torchvision\n",
    "%pip install numpy"
   ]
  },
  {
   "cell_type": "code",
   "execution_count": null,
   "id": "97f07c69",
   "metadata": {},
   "outputs": [],
   "source": [
    "import torch\n",
    "import torchvision\n",
    "import numpy as np"
   ]
  },
  {
   "cell_type": "code",
   "execution_count": null,
   "id": "40e068ed",
   "metadata": {
    "id": "40e068ed",
    "tags": [
     "pdf-ignore"
    ]
   },
   "outputs": [],
   "source": [
    "# Run some setup code for this notebook.\n",
    "\n",
    "import random\n",
    "import matplotlib.pyplot as plt\n",
    "\n",
    "# This is a bit of magic to make matplotlib figures appear inline in the notebook\n",
    "# rather than in a new window.\n",
    "%matplotlib inline\n",
    "plt.rcParams['figure.figsize'] = (10.0, 8.0) # set default size of plots\n",
    "plt.rcParams['image.interpolation'] = 'nearest'\n",
    "plt.rcParams['image.cmap'] = 'gray'\n",
    "\n",
    "# Some more magic so that the notebook will reload external python modules;\n",
    "# see http://stackoverflow.com/questions/1907993/autoreload-of-modules-in-ipython\n",
    "%load_ext autoreload\n",
    "%autoreload 2"
   ]
  },
  {
   "cell_type": "markdown",
   "id": "62f323c4",
   "metadata": {},
   "source": [
    "**<span style=\"color:red\"> 2. </span>** 실습에 사용할 데이터 셋을 받아옵니다.  \n",
    "    우리가 사용할 데이터는 cifar-10이라는 총 10 종류의 다양한 이미지들이 있는 데이터 입니다."
   ]
  },
  {
   "cell_type": "code",
   "execution_count": null,
   "id": "e9470bcd",
   "metadata": {
    "colab": {
     "base_uri": "https://localhost:8080/"
    },
    "id": "e9470bcd",
    "outputId": "5fac4d9c-6f3d-4272-d022-ae08225c5d30",
    "tags": [
     "pdf-ignore"
    ]
   },
   "outputs": [],
   "source": [
    "# CIFAR-10 데이터셋 로드\n",
    "train_dataset = torchvision.datasets.CIFAR10(root=\"./data\", train=True, download=True)\n",
    "test_dataset = torchvision.datasets.CIFAR10(root=\"./data\", train=False, download=True)\n",
    "\n",
    "X_train = np.array(train_dataset.data)\n",
    "y_train = np.array(train_dataset.targets)\n",
    "X_test = np.array(test_dataset.data)\n",
    "y_test = np.array(test_dataset.targets) \n",
    "\n",
    "# 데이터의 크기 확인\n",
    "print(f\"Train X shape: {X_train.shape}, Train Y shape: {y_train.shape}\")\n",
    "print(f\"Test X shape: {X_test.shape}, Test Y shape: {y_test.shape}\")"
   ]
  },
  {
   "cell_type": "markdown",
   "id": "1055d5f9",
   "metadata": {},
   "source": [
    "우리가 받아온 데이터가 어떤 데이터인지 알아보기 위해 각 class별로 7개의 이미지를 시각화 해봅시다."
   ]
  },
  {
   "cell_type": "code",
   "execution_count": null,
   "id": "e6ddae22",
   "metadata": {
    "colab": {
     "base_uri": "https://localhost:8080/",
     "height": 665
    },
    "id": "e6ddae22",
    "outputId": "cfd86e3d-b1af-4d21-f39b-4c3f78d79d1b",
    "tags": [
     "pdf-ignore"
    ]
   },
   "outputs": [],
   "source": [
    "classes = ['plane', 'car', 'bird', 'cat', 'deer', 'dog', 'frog', 'horse', 'ship', 'truck']\n",
    "num_classes = len(classes)\n",
    "samples_per_class = 7\n",
    "for y, cls in enumerate(classes):\n",
    "    idxs = np.flatnonzero(y_train == y)\n",
    "    idxs = np.random.choice(idxs, samples_per_class, replace=False)\n",
    "    for i, idx in enumerate(idxs):\n",
    "        plt_idx = i * num_classes + y + 1\n",
    "        plt.subplot(samples_per_class, num_classes, plt_idx)\n",
    "        plt.imshow(X_train[idx].astype('uint8'))\n",
    "        plt.axis('off')\n",
    "        if i == 0:\n",
    "            plt.title(cls)\n",
    "plt.show()"
   ]
  },
  {
   "cell_type": "markdown",
   "id": "f6021bdd",
   "metadata": {},
   "source": [
    "50000개 + 10000개 = 60000개의 데이터를 다루기엔 너무 시간이 많이 필요하니, 적당히 데이터의 크기를 조절해 줍니다."
   ]
  },
  {
   "cell_type": "code",
   "execution_count": null,
   "id": "673ef941",
   "metadata": {
    "colab": {
     "base_uri": "https://localhost:8080/"
    },
    "id": "673ef941",
    "outputId": "daad193b-c304-4aa9-ac48-562a49b92dac",
    "tags": [
     "pdf-ignore"
    ]
   },
   "outputs": [],
   "source": [
    "num_training = 5000\n",
    "mask = list(range(num_training))\n",
    "X_train = X_train[mask]\n",
    "y_train = y_train[mask]\n",
    "\n",
    "num_test = 500\n",
    "mask = list(range(num_test))\n",
    "X_test = X_test[mask]\n",
    "y_test = y_test[mask]\n",
    "\n",
    "# Reshape the image data into rows\n",
    "X_train = np.reshape(X_train, (X_train.shape[0], -1))\n",
    "X_test = np.reshape(X_test, (X_test.shape[0], -1))"
   ]
  },
  {
   "cell_type": "markdown",
   "id": "3e82b91c",
   "metadata": {},
   "source": [
    "**<span style=\"color:red\"> 3. </span>** KNN 분류기를 만들고, 데이터를 넣어줍니다."
   ]
  },
  {
   "cell_type": "code",
   "execution_count": null,
   "id": "e6a64569",
   "metadata": {
    "id": "e6a64569",
    "tags": [
     "pdf-ignore"
    ]
   },
   "outputs": [],
   "source": [
    "class KNearestNeighbor(object):\n",
    "    \"\"\" a kNN classifier with L2 distance \"\"\"\n",
    "\n",
    "    def __init__(self):\n",
    "        pass\n",
    "\n",
    "    def train(self, X, y):\n",
    "        self.X_train = X\n",
    "        self.y_train = y\n",
    "\n",
    "    def predict(self, X, k=1):\n",
    "        dists = self.compute_distances(X)\n",
    "        return self.predict_labels(dists, k=k)\n",
    "\n",
    "    # 이미지 간 거리를 구하는 코드 \n",
    "    def compute_distances(self, X):\n",
    "        num_test = X.shape[0]\n",
    "        num_train = self.X_train.shape[0]\n",
    " \n",
    "        dists = np.zeros((num_test, num_train))\n",
    "        for i in range(num_test):\n",
    "            for j in range(num_train):\n",
    "                dists[i, j] = np.sqrt(np.sum(np.square(self.X_train[j]- X[i])))\n",
    "\n",
    "        return dists\n",
    "    \n",
    "    # 가장 가까운 k개의 label을 선택, 투표\n",
    "    def predict_labels(self, dists, k=1):\n",
    "        num_test = dists.shape[0]\n",
    "        y_pred = np.zeros(num_test)\n",
    "        for i in range(num_test):\n",
    "            closest_y = []\n",
    "            closest_y = self.y_train[dists[i].argsort()[:k]]\n",
    "            y_pred[i]= np.argmax(np.bincount(closest_y))\n",
    "        return y_pred\n",
    "\n",
    "\n",
    "classifier = KNearestNeighbor()\n",
    "classifier.train(X_train, y_train)"
   ]
  },
  {
   "cell_type": "markdown",
   "id": "eb388396",
   "metadata": {},
   "source": [
    "**<span style=\"color:red\"> 4. </span>** 우리의 test 데이터와 KNN 안에 있는 train 데이터와의 거리를 계산합니다.  "
   ]
  },
  {
   "cell_type": "code",
   "execution_count": null,
   "id": "f02318c5",
   "metadata": {},
   "outputs": [],
   "source": [
    "dists = classifier.compute_distances(X_test)"
   ]
  },
  {
   "cell_type": "markdown",
   "id": "f0213e02",
   "metadata": {},
   "source": [
    "**<span style=\"color:red\"> [퀴즈] </span>** 만약 학습에 이용했던 데이터를 예측하는 test 데이터로 사용하면 어떤 일이 일어날까요?   \n",
    "(k가 1일 때와 아닐 때로 구분해서 생각해봅시다!)"
   ]
  },
  {
   "cell_type": "markdown",
   "id": "12babc8d",
   "metadata": {},
   "source": [
    "**<span style=\"color:red\"> [정답] </span>** "
   ]
  },
  {
   "cell_type": "markdown",
   "id": "1b32da02",
   "metadata": {},
   "source": [
    "k=1일때는 항상 가장 가까운 데이터를 선택해 100%의 정확도를 가지게 된다. k>1일때는 정확도가 100%는 아니지만 새로운 데이터에 대한 예측 성능이 좋아진다."
   ]
  },
  {
   "cell_type": "markdown",
   "id": "242a220b",
   "metadata": {},
   "source": [
    "**<span style=\"color:red\"> 5. </span>** 구한 거리를 바탕으로 test 데이터의 이미지가 어떤 이미지인지 예측하고 정확도를 구합니다."
   ]
  },
  {
   "cell_type": "code",
   "execution_count": null,
   "id": "44c2cb31",
   "metadata": {
    "colab": {
     "base_uri": "https://localhost:8080/"
    },
    "id": "44c2cb31",
    "outputId": "a773a371-0560-400c-bf44-b54a96be990c"
   },
   "outputs": [],
   "source": [
    "# 모든 test 데이터를 예측\n",
    "y_test_pred = classifier.predict_labels(dists, k=1)\n",
    "\n",
    "# Compute and print the fraction of correctly predicted examples\n",
    "num_correct = np.sum(y_test_pred == y_test)\n",
    "accuracy = float(num_correct) / num_test\n",
    "print('Got %d / %d correct => accuracy: %f' % (num_correct, num_test, accuracy))"
   ]
  },
  {
   "cell_type": "markdown",
   "id": "a68f3ad1",
   "metadata": {},
   "source": [
    "**<span style=\"color:red\"> 6. </span>** K가 5일 때도 해봅시다"
   ]
  },
  {
   "cell_type": "code",
   "execution_count": null,
   "id": "b4722bbf",
   "metadata": {
    "colab": {
     "base_uri": "https://localhost:8080/"
    },
    "id": "b4722bbf",
    "outputId": "90ab1491-84bd-446b-8673-ebd3d0c12582"
   },
   "outputs": [],
   "source": [
    "y_test_pred = classifier.predict_labels(dists, k=5)\n",
    "num_correct = np.sum(y_test_pred == y_test)\n",
    "accuracy = float(num_correct) / num_test\n",
    "print('Got %d / %d correct => accuracy: %f' % (num_correct, num_test, accuracy))"
   ]
  },
  {
   "cell_type": "markdown",
   "id": "f354d246",
   "metadata": {
    "id": "f354d246"
   },
   "source": [
    "**<span style=\"color:red\"> 7. </span>** 특정 이미지를 분류한 결과를 볼까요?"
   ]
  },
  {
   "cell_type": "code",
   "execution_count": null,
   "id": "5fa63e17",
   "metadata": {
    "colab": {
     "base_uri": "https://localhost:8080/"
    },
    "id": "5fa63e17",
    "outputId": "37647cad-0c28-4456-de8d-cd822e606b0f",
    "tags": [
     "code"
    ]
   },
   "outputs": [],
   "source": [
    "random.seed(1)\n",
    "num_samples = 5\n",
    "indices = random.sample(range(X_test.shape[0]), num_samples)\n",
    "X_check = X_test[indices]\n",
    "y_check = y_test[indices]\n",
    "\n",
    "y_pred = classifier.predict(X_check, k = 5)\n",
    "\n",
    "X_check = np.reshape(X_check, (5, 32, 32, 3))\n",
    "print(X_check.shape)\n",
    "\n",
    "fig, axes = plt.subplots(1, num_samples, figsize=(10, 2))  # 1행 5열로 이미지 배치\n",
    "for i, ax in enumerate(axes):\n",
    "    ax.imshow(X_check[i])  # 이미지 표시\n",
    "    ax.axis('off')  # 축 숨기기\n",
    "    ax.set_title(f\"Pred: {classes[int(y_pred[i])]}\\nTrue: {classes[y_check[i]]}\")  # 예측값 & 정답 표시\n",
    "\n"
   ]
  },
  {
   "cell_type": "markdown",
   "id": "0c32cbff",
   "metadata": {},
   "source": [
    "이미지가 잘 분류 되었나요??"
   ]
  },
  {
   "cell_type": "markdown",
   "id": "abe500a0",
   "metadata": {},
   "source": [
    "예예"
   ]
  },
  {
   "cell_type": "markdown",
   "id": "fbedc19b",
   "metadata": {},
   "source": [
    "**<span style=\"color:brown\"> [설문] </span>** 혹시 인공지능에 대해 얼마나 알고 계신가요?? 설명 가능한 단어를 모두 골라주세요  \n",
    "<span style=\"color:violet\"> 1. </span> 배치 정규화  \n",
    "<span style=\"color:violet\"> 2. </span> 활성화 함수  \n",
    "<span style=\"color:violet\"> 3. </span> 과적합  \n",
    "<span style=\"color:violet\"> 4. </span> 앙상블 학습  \n",
    "<span style=\"color:violet\"> 5. </span> 드롭아웃  \n",
    "<span style=\"color:violet\"> 6. </span> 어텐션 매커니즘  "
   ]
  },
  {
   "cell_type": "markdown",
   "id": "812b603e",
   "metadata": {},
   "source": [
    "과적합밖에 모르옵니다"
   ]
  },
  {
   "cell_type": "markdown",
   "id": "ccd09673",
   "metadata": {},
   "source": [
    "## 1주차 과제 끝!\n",
    "1주차 과제는 여기까지 입니다! 1주차 과제는 간단한 실습 위주로 준비해봤습니다.  \n",
    "\n",
    "수업 중 이해가 안가거나 어려웠던 부분, 수업에 관한 피드백을 적어주시면 다음 주차 강의에 적극적으로 반영하겠습니다!"
   ]
  },
  {
   "cell_type": "markdown",
   "id": "144aeb4c",
   "metadata": {},
   "source": [
    "-여기에 적어주세요-"
   ]
  }
 ],
 "metadata": {
  "accelerator": "GPU",
  "colab": {
   "gpuType": "T4",
   "provenance": []
  },
  "kernelspec": {
   "display_name": "Python 3",
   "name": "python3"
  },
  "language_info": {
   "codemirror_mode": {
    "name": "ipython",
    "version": 3
   },
   "file_extension": ".py",
   "mimetype": "text/x-python",
   "name": "python",
   "nbconvert_exporter": "python",
   "pygments_lexer": "ipython3",
   "version": "3.11.2"
  }
 },
 "nbformat": 4,
 "nbformat_minor": 5
}
